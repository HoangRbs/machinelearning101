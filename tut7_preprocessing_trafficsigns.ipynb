{
 "cells": [
  {
   "cell_type": "code",
   "execution_count": 9,
   "metadata": {
    "vscode": {
     "languageId": "powershell"
    }
   },
   "outputs": [
    {
     "name": "stderr",
     "output_type": "stream",
     "text": [
      "Cloning into 'german-traffic-signs'...\n",
      "Updating files: 100% (4/4)\n",
      "Updating files: 100% (4/4), done.\n"
     ]
    }
   ],
   "source": [
    "!git clone https://bitbucket.org/jadslim/german-traffic-signs.git"
   ]
  },
  {
   "cell_type": "code",
   "execution_count": 15,
   "metadata": {},
   "outputs": [
    {
     "name": "stdout",
     "output_type": "stream",
     "text": [
      "signnames.csv\n",
      "test.p\n",
      "train.p\n",
      "valid.p\n"
     ]
    }
   ],
   "source": [
    "!ls german-traffic-signs\n",
    "\n",
    "# the \"signnames\" contains the traffic signs' labels\n",
    "\n",
    "# and the rest of 3 files are \"pickled\" files:\n",
    "# Pickle in Python is primarily used in serializing and deserializing a Python object structure. \n",
    "# In other words, it's the process of converting a Python object into a byte stream to store it in a file/database, \n",
    "# maintain program state across sessions, or transport data over the network\n",
    "\n",
    "# now we need the UNPICKLE them to get the image datas"
   ]
  },
  {
   "cell_type": "code",
   "execution_count": 11,
   "metadata": {},
   "outputs": [],
   "source": [
    "import numpy as np\n",
    "import matplotlib.pyplot as plt\n",
    "from tensorflow import keras\n",
    "from keras.datasets import mnist\n",
    "from keras.models import Sequential\n",
    "from keras.layers import Dense\n",
    "from keras.layers import Dropout\n",
    "from keras.optimizers import Adam\n",
    "from keras.utils.np_utils import to_categorical\n",
    "from keras.layers import Flatten\n",
    "from keras.layers.convolutional import Conv2D\n",
    "from keras.layers.convolutional import MaxPooling2D\n",
    "import random"
   ]
  },
  {
   "cell_type": "code",
   "execution_count": 12,
   "metadata": {},
   "outputs": [],
   "source": [
    "np.random.seed(0)"
   ]
  },
  {
   "cell_type": "code",
   "execution_count": null,
   "metadata": {},
   "outputs": [],
   "source": [
    "  "
   ]
  }
 ],
 "metadata": {
  "kernelspec": {
   "display_name": "machinelearningenv",
   "language": "python",
   "name": "python3"
  },
  "language_info": {
   "codemirror_mode": {
    "name": "ipython",
    "version": 3
   },
   "file_extension": ".py",
   "mimetype": "text/x-python",
   "name": "python",
   "nbconvert_exporter": "python",
   "pygments_lexer": "ipython3",
   "version": "3.10.8"
  },
  "orig_nbformat": 4,
  "vscode": {
   "interpreter": {
    "hash": "e2818dd09f53d1d59dec6c2c5a6c085a04f26bb7083c6918536fa6e840c2338e"
   }
  }
 },
 "nbformat": 4,
 "nbformat_minor": 2
}
